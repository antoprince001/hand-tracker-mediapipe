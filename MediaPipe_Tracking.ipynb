{
  "nbformat": 4,
  "nbformat_minor": 0,
  "metadata": {
    "colab": {
      "provenance": []
    },
    "kernelspec": {
      "name": "python3",
      "display_name": "Python 3"
    },
    "language_info": {
      "name": "python"
    }
  },
  "cells": [
    {
      "cell_type": "code",
      "execution_count": null,
      "metadata": {
        "colab": {
          "base_uri": "https://localhost:8080/"
        },
        "id": "xy-3v9ppyyZD",
        "outputId": "b6d9dde8-2ea5-4f85-c0c8-a9cb52052494"
      },
      "outputs": [
        {
          "output_type": "stream",
          "name": "stdout",
          "text": [
            "Requirement already satisfied: opencv-python in /usr/local/lib/python3.7/dist-packages (4.1.2.30)\n",
            "Requirement already satisfied: numpy>=1.14.5 in /usr/local/lib/python3.7/dist-packages (from opencv-python) (1.19.5)\n"
          ]
        }
      ],
      "source": [
        "!pip install opencv-python"
      ]
    },
    {
      "cell_type": "code",
      "source": [
        "!pip install mediapipe"
      ],
      "metadata": {
        "colab": {
          "base_uri": "https://localhost:8080/"
        },
        "id": "u5R_Q2P1y9Fx",
        "outputId": "9627676a-1713-4e72-b075-0a07a63156f4"
      },
      "execution_count": null,
      "outputs": [
        {
          "output_type": "stream",
          "name": "stdout",
          "text": [
            "Collecting mediapipe\n",
            "  Downloading mediapipe-0.8.9.1-cp37-cp37m-manylinux_2_17_x86_64.manylinux2014_x86_64.whl (32.7 MB)\n",
            "\u001b[K     |████████████████████████████████| 32.7 MB 1.4 MB/s \n",
            "\u001b[?25hRequirement already satisfied: attrs>=19.1.0 in /usr/local/lib/python3.7/dist-packages (from mediapipe) (21.2.0)\n",
            "Requirement already satisfied: numpy in /usr/local/lib/python3.7/dist-packages (from mediapipe) (1.19.5)\n",
            "Requirement already satisfied: matplotlib in /usr/local/lib/python3.7/dist-packages (from mediapipe) (3.2.2)\n",
            "Requirement already satisfied: absl-py in /usr/local/lib/python3.7/dist-packages (from mediapipe) (0.12.0)\n",
            "Requirement already satisfied: protobuf>=3.11.4 in /usr/local/lib/python3.7/dist-packages (from mediapipe) (3.17.3)\n",
            "Requirement already satisfied: opencv-contrib-python in /usr/local/lib/python3.7/dist-packages (from mediapipe) (4.1.2.30)\n",
            "Requirement already satisfied: six>=1.9 in /usr/local/lib/python3.7/dist-packages (from protobuf>=3.11.4->mediapipe) (1.15.0)\n",
            "Requirement already satisfied: pyparsing!=2.0.4,!=2.1.2,!=2.1.6,>=2.0.1 in /usr/local/lib/python3.7/dist-packages (from matplotlib->mediapipe) (3.0.6)\n",
            "Requirement already satisfied: kiwisolver>=1.0.1 in /usr/local/lib/python3.7/dist-packages (from matplotlib->mediapipe) (1.3.2)\n",
            "Requirement already satisfied: python-dateutil>=2.1 in /usr/local/lib/python3.7/dist-packages (from matplotlib->mediapipe) (2.8.2)\n",
            "Requirement already satisfied: cycler>=0.10 in /usr/local/lib/python3.7/dist-packages (from matplotlib->mediapipe) (0.11.0)\n",
            "Installing collected packages: mediapipe\n",
            "Successfully installed mediapipe-0.8.9.1\n"
          ]
        }
      ]
    },
    {
      "cell_type": "code",
      "source": [
        "import mediapipe as mp\n",
        "import cv2\n",
        "\n",
        "#Initializations: static code\n",
        "mpHands = mp.solutions.hands\n",
        "mpDraw = mp.solutions.drawing_utils\n",
        "\n",
        "\n",
        "\n",
        "class HandDetector:\n",
        "    def __init__(self, max_num_hands=2, min_detection_confidence=0.5, min_tracking_confidence=0.5):\n",
        "        #when the mediapipe is first started, it detects the hands. After that it tries to track the hands\n",
        "        #as detecting is more time consuming than tracking. If the tracking confidence goes down than the\n",
        "        #specified value then again it switches back to detection\n",
        "        self.hands = mpHands.Hands(max_num_hands=max_num_hands, min_detection_confidence=min_detection_confidence,\n",
        "                                   min_tracking_confidence=min_tracking_confidence)\n",
        "\n",
        "\n",
        "    def findHandLandMarks(self, image, handNumber=0, draw=False):\n",
        "        originalImage = image\n",
        "        image = cv2.cvtColor(image, cv2.COLOR_BGR2RGB)  # mediapipe needs RGB\n",
        "        results = self.hands.process(image)\n",
        "        landMarkList = []\n",
        "\n",
        "        if results.multi_hand_landmarks:  # returns None if hand is not found\n",
        "            hand = results.multi_hand_landmarks[handNumber] #results.multi_hand_landmarks returns landMarks for all the hands\n",
        "\n",
        "            for id, landMark in enumerate(hand.landmark):\n",
        "                # landMark holds x,y,z ratios of single landmark\n",
        "                imgH, imgW, imgC = originalImage.shape  # height, width, channel for image\n",
        "                xPos, yPos = int(landMark.x * imgW), int(landMark.y * imgH)\n",
        "                landMarkList.append([id, xPos, yPos])\n",
        "\n",
        "            if draw:\n",
        "                mpDraw.draw_landmarks(originalImage, hand, mpHands.HAND_CONNECTIONS)\n",
        "\n",
        "        return landMarkList"
      ],
      "metadata": {
        "id": "Lrvgx7vRzCvy"
      },
      "execution_count": null,
      "outputs": []
    },
    {
      "cell_type": "code",
      "source": [
        "import cv2\n",
        "import math\n",
        "import numpy as np\n",
        "\n",
        "handDetector = HandDetector(min_detection_confidence=0.7)\n",
        "webcamFeed = cv2.VideoCapture(0)\n",
        "\n",
        "\n",
        "while True:\n",
        "    status, image = webcamFeed.read()\n",
        "    handLandmarks = handDetector.findHandLandMarks(image=image, draw=True)\n",
        "\n",
        "    if(len(handLandmarks) != 0):\n",
        "        #for motion we need 4th and 8th landmark\n",
        "        #details: https://google.github.io/mediapipe/solutions/hands\n",
        "        x1, y1 = handLandmarks[4][1], handLandmarks[4][2]\n",
        "        x2, y2 = handLandmarks[8][1], handLandmarks[8][2]\n",
        "        length = math.hypot(x2-x1, y2-y1)\n",
        "        print(length)\n",
        "\n",
        "        #Hand range(length): 50-250\n",
        "           \n",
        "        # Start coordinate, here (100, 50)\n",
        "        # represents the top left corner of rectangle\n",
        "        start_point = (100+x2, 50+y2)\n",
        "   \n",
        "        # Ending coordinate, here (125, 80)\n",
        "        # represents the bottom right corner of rectangle\n",
        "        end_point = (125+x1, 80+y1)\n",
        "   \n",
        "        # Black color in BGR\n",
        "        color = (0, 0, 0)\n",
        "   \n",
        "        # Line thickness of -1 px\n",
        "        # Thickness of -1 will fill the entire shape\n",
        "        thickness = -1\n",
        "        cv2.rectangle(image, start_point, end_point, color, thickness)\n",
        "        \n",
        "        cv2.circle(image, (x1, y1), 15, (255, 0, 255), cv2.FILLED)\n",
        "        cv2.circle(image, (x2, y2), 15, (255, 0, 255), cv2.FILLED)\n",
        "        cv2.line(image, (x1, y1), (x2, y2), (255, 0, 255), 3)\n",
        "\n",
        "    cv2.imshow(\"Movement Capture\", image)\n",
        "    #cv2.waitKey(1)\n",
        "    key=cv2.waitKey(1)\n",
        "    if key%256 == 27:\n",
        "        break\n",
        "\n",
        "cv2.destroyAllWindows()"
      ],
      "metadata": {
        "id": "Of16VsrCzG43"
      },
      "execution_count": null,
      "outputs": []
    },
    {
      "cell_type": "code",
      "source": [],
      "metadata": {
        "id": "AVe92zvrzKiG"
      },
      "execution_count": null,
      "outputs": []
    }
  ]
}